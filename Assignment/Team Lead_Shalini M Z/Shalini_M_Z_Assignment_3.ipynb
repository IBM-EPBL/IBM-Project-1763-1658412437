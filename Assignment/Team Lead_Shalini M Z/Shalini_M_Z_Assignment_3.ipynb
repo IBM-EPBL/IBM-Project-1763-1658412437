{
  "nbformat": 4,
  "nbformat_minor": 0,
  "metadata": {
    "colab": {
      "provenance": [],
      "collapsed_sections": []
    },
    "kernelspec": {
      "name": "python3",
      "display_name": "Python 3"
    },
    "language_info": {
      "name": "python"
    },
    "accelerator": "GPU"
  },
  "cells": [
    {
      "cell_type": "code",
      "source": [
        "!unzip '/content/Flowers-Dataset.zip'"
      ],
      "metadata": {
        "colab": {
          "base_uri": "https://localhost:8080/"
        },
        "id": "bruL89decUSc",
        "outputId": "879e5098-3e7e-4a8d-cae6-8831b66021cc"
      },
      "execution_count": 1,
      "outputs": [
        {
          "output_type": "stream",
          "name": "stdout",
          "text": [
            "unzip:  cannot find or open /content/Flowers-Dataset.zip, /content/Flowers-Dataset.zip.zip or /content/Flowers-Dataset.zip.ZIP.\n"
          ]
        }
      ]
    },
    {
      "cell_type": "code",
      "source": [
        "from google.colab import drive\n",
        "drive.mount('/content/drive')"
      ],
      "metadata": {
        "colab": {
          "base_uri": "https://localhost:8080/"
        },
        "id": "W4wTeTxuuQ7o",
        "outputId": "c4368367-d8d8-444d-ea05-f873f3316e0a"
      },
      "execution_count": 2,
      "outputs": [
        {
          "output_type": "stream",
          "name": "stdout",
          "text": [
            "Mounted at /content/drive\n"
          ]
        }
      ]
    },
    {
      "cell_type": "markdown",
      "source": [
        "#Image Augmentation"
      ],
      "metadata": {
        "id": "o_FS4Zgzc2FM"
      }
    },
    {
      "cell_type": "code",
      "source": [
        "from tensorflow.keras.preprocessing.image import ImageDataGenerator"
      ],
      "metadata": {
        "id": "ZfS3dH-Cc-Q6"
      },
      "execution_count": null,
      "outputs": []
    },
    {
      "cell_type": "code",
      "source": [
        "train_datagen = ImageDataGenerator(rescale=1./255,\n",
        "                                   zoom_range=0.2,\n",
        "                                   horizontal_flip=True)"
      ],
      "metadata": {
        "id": "Kes7yftrdmIt"
      },
      "execution_count": null,
      "outputs": []
    },
    {
      "cell_type": "code",
      "source": [
        "test_datagen = ImageDataGenerator(rescale=1./255)"
      ],
      "metadata": {
        "id": "5bXK9q1WdmxL"
      },
      "execution_count": null,
      "outputs": []
    },
    {
      "cell_type": "code",
      "source": [
        "xtrain = train_datagen.flow_from_directory('/content/flowers',\n",
        "                                           target_size=(64,64),\n",
        "                                           class_mode='categorical',\n",
        "                                           batch_size=100)"
      ],
      "metadata": {
        "colab": {
          "base_uri": "https://localhost:8080/",
          "height": 380
        },
        "id": "sbQc8wfRduRg",
        "outputId": "87c1e09f-7bc7-4672-ed58-ce5b45e3499b"
      },
      "execution_count": null,
      "outputs": [
        {
          "output_type": "error",
          "ename": "FileNotFoundError",
          "evalue": "ignored",
          "traceback": [
            "\u001b[0;31m---------------------------------------------------------------------------\u001b[0m",
            "\u001b[0;31mFileNotFoundError\u001b[0m                         Traceback (most recent call last)",
            "\u001b[0;32m<ipython-input-6-67351017ffe1>\u001b[0m in \u001b[0;36m<module>\u001b[0;34m\u001b[0m\n\u001b[1;32m      2\u001b[0m                                            \u001b[0mtarget_size\u001b[0m\u001b[0;34m=\u001b[0m\u001b[0;34m(\u001b[0m\u001b[0;36m64\u001b[0m\u001b[0;34m,\u001b[0m\u001b[0;36m64\u001b[0m\u001b[0;34m)\u001b[0m\u001b[0;34m,\u001b[0m\u001b[0;34m\u001b[0m\u001b[0;34m\u001b[0m\u001b[0m\n\u001b[1;32m      3\u001b[0m                                            \u001b[0mclass_mode\u001b[0m\u001b[0;34m=\u001b[0m\u001b[0;34m'categorical'\u001b[0m\u001b[0;34m,\u001b[0m\u001b[0;34m\u001b[0m\u001b[0;34m\u001b[0m\u001b[0m\n\u001b[0;32m----> 4\u001b[0;31m                                            batch_size=100)\n\u001b[0m",
            "\u001b[0;32m/usr/local/lib/python3.7/dist-packages/keras/preprocessing/image.py\u001b[0m in \u001b[0;36mflow_from_directory\u001b[0;34m(self, directory, target_size, color_mode, classes, class_mode, batch_size, shuffle, seed, save_to_dir, save_prefix, save_format, follow_links, subset, interpolation)\u001b[0m\n\u001b[1;32m    990\u001b[0m         \u001b[0mfollow_links\u001b[0m\u001b[0;34m=\u001b[0m\u001b[0mfollow_links\u001b[0m\u001b[0;34m,\u001b[0m\u001b[0;34m\u001b[0m\u001b[0;34m\u001b[0m\u001b[0m\n\u001b[1;32m    991\u001b[0m         \u001b[0msubset\u001b[0m\u001b[0;34m=\u001b[0m\u001b[0msubset\u001b[0m\u001b[0;34m,\u001b[0m\u001b[0;34m\u001b[0m\u001b[0;34m\u001b[0m\u001b[0m\n\u001b[0;32m--> 992\u001b[0;31m         interpolation=interpolation)\n\u001b[0m\u001b[1;32m    993\u001b[0m \u001b[0;34m\u001b[0m\u001b[0m\n\u001b[1;32m    994\u001b[0m   def flow_from_dataframe(self,\n",
            "\u001b[0;32m/usr/local/lib/python3.7/dist-packages/keras/preprocessing/image.py\u001b[0m in \u001b[0;36m__init__\u001b[0;34m(self, directory, image_data_generator, target_size, color_mode, classes, class_mode, batch_size, shuffle, seed, data_format, save_to_dir, save_prefix, save_format, follow_links, subset, interpolation, dtype)\u001b[0m\n\u001b[1;32m    408\u001b[0m         \u001b[0msubset\u001b[0m\u001b[0;34m=\u001b[0m\u001b[0msubset\u001b[0m\u001b[0;34m,\u001b[0m\u001b[0;34m\u001b[0m\u001b[0;34m\u001b[0m\u001b[0m\n\u001b[1;32m    409\u001b[0m         \u001b[0minterpolation\u001b[0m\u001b[0;34m=\u001b[0m\u001b[0minterpolation\u001b[0m\u001b[0;34m,\u001b[0m\u001b[0;34m\u001b[0m\u001b[0;34m\u001b[0m\u001b[0m\n\u001b[0;32m--> 410\u001b[0;31m         **kwargs)\n\u001b[0m\u001b[1;32m    411\u001b[0m \u001b[0;34m\u001b[0m\u001b[0m\n\u001b[1;32m    412\u001b[0m \u001b[0;34m\u001b[0m\u001b[0m\n",
            "\u001b[0;32m/usr/local/lib/python3.7/dist-packages/keras_preprocessing/image/directory_iterator.py\u001b[0m in \u001b[0;36m__init__\u001b[0;34m(self, directory, image_data_generator, target_size, color_mode, classes, class_mode, batch_size, shuffle, seed, data_format, save_to_dir, save_prefix, save_format, follow_links, subset, interpolation, dtype)\u001b[0m\n\u001b[1;32m    113\u001b[0m         \u001b[0;32mif\u001b[0m \u001b[0;32mnot\u001b[0m \u001b[0mclasses\u001b[0m\u001b[0;34m:\u001b[0m\u001b[0;34m\u001b[0m\u001b[0;34m\u001b[0m\u001b[0m\n\u001b[1;32m    114\u001b[0m             \u001b[0mclasses\u001b[0m \u001b[0;34m=\u001b[0m \u001b[0;34m[\u001b[0m\u001b[0;34m]\u001b[0m\u001b[0;34m\u001b[0m\u001b[0;34m\u001b[0m\u001b[0m\n\u001b[0;32m--> 115\u001b[0;31m             \u001b[0;32mfor\u001b[0m \u001b[0msubdir\u001b[0m \u001b[0;32min\u001b[0m \u001b[0msorted\u001b[0m\u001b[0;34m(\u001b[0m\u001b[0mos\u001b[0m\u001b[0;34m.\u001b[0m\u001b[0mlistdir\u001b[0m\u001b[0;34m(\u001b[0m\u001b[0mdirectory\u001b[0m\u001b[0;34m)\u001b[0m\u001b[0;34m)\u001b[0m\u001b[0;34m:\u001b[0m\u001b[0;34m\u001b[0m\u001b[0;34m\u001b[0m\u001b[0m\n\u001b[0m\u001b[1;32m    116\u001b[0m                 \u001b[0;32mif\u001b[0m \u001b[0mos\u001b[0m\u001b[0;34m.\u001b[0m\u001b[0mpath\u001b[0m\u001b[0;34m.\u001b[0m\u001b[0misdir\u001b[0m\u001b[0;34m(\u001b[0m\u001b[0mos\u001b[0m\u001b[0;34m.\u001b[0m\u001b[0mpath\u001b[0m\u001b[0;34m.\u001b[0m\u001b[0mjoin\u001b[0m\u001b[0;34m(\u001b[0m\u001b[0mdirectory\u001b[0m\u001b[0;34m,\u001b[0m \u001b[0msubdir\u001b[0m\u001b[0;34m)\u001b[0m\u001b[0;34m)\u001b[0m\u001b[0;34m:\u001b[0m\u001b[0;34m\u001b[0m\u001b[0;34m\u001b[0m\u001b[0m\n\u001b[1;32m    117\u001b[0m                     \u001b[0mclasses\u001b[0m\u001b[0;34m.\u001b[0m\u001b[0mappend\u001b[0m\u001b[0;34m(\u001b[0m\u001b[0msubdir\u001b[0m\u001b[0;34m)\u001b[0m\u001b[0;34m\u001b[0m\u001b[0;34m\u001b[0m\u001b[0m\n",
            "\u001b[0;31mFileNotFoundError\u001b[0m: [Errno 2] No such file or directory: '/content/flowers'"
          ]
        }
      ]
    },
    {
      "cell_type": "code",
      "source": [
        "xtest = test_datagen.flow_from_directory('/content/flowers',\n",
        "                                         target_size=(64,64),\n",
        "                                         class_mode='categorical',\n",
        "                                         batch_size=100)"
      ],
      "metadata": {
        "colab": {
          "base_uri": "https://localhost:8080/"
        },
        "id": "4cPzwYB9eR7t",
        "outputId": "69bf6fc7-6651-4597-c03e-eadc618e4793"
      },
      "execution_count": null,
      "outputs": [
        {
          "output_type": "stream",
          "name": "stdout",
          "text": [
            "Found 4317 images belonging to 5 classes.\n"
          ]
        }
      ]
    },
    {
      "cell_type": "markdown",
      "source": [
        "#Create Model"
      ],
      "metadata": {
        "id": "jJ1zM9sPfjc9"
      }
    },
    {
      "cell_type": "code",
      "source": [
        "from tensorflow.keras.models import Sequential\n",
        "from tensorflow.keras.layers import Convolution2D,MaxPooling2D,Flatten,Dense"
      ],
      "metadata": {
        "id": "YyGuGvZ3fxDK"
      },
      "execution_count": null,
      "outputs": []
    },
    {
      "cell_type": "code",
      "source": [
        "model = Sequential()"
      ],
      "metadata": {
        "id": "Y_JXO88yebnl"
      },
      "execution_count": null,
      "outputs": []
    },
    {
      "cell_type": "markdown",
      "source": [
        "#Convolution Layer"
      ],
      "metadata": {
        "id": "lPa5CM-_f76x"
      }
    },
    {
      "cell_type": "code",
      "source": [
        "model.add(Convolution2D(32,(3,3),activation='relu',input_shape=(64,64,3))) "
      ],
      "metadata": {
        "id": "ExQNWPkyfpKI"
      },
      "execution_count": null,
      "outputs": []
    },
    {
      "cell_type": "markdown",
      "source": [
        "#MaxPooling"
      ],
      "metadata": {
        "id": "ogqm-C9pgMJb"
      }
    },
    {
      "cell_type": "code",
      "source": [
        "model.add(MaxPooling2D(pool_size=(2,2)))"
      ],
      "metadata": {
        "id": "lOGpNh7igLS7"
      },
      "execution_count": null,
      "outputs": []
    },
    {
      "cell_type": "markdown",
      "source": [
        "#Flatten"
      ],
      "metadata": {
        "id": "E3dHDgJ2gnPr"
      }
    },
    {
      "cell_type": "code",
      "source": [
        "model.add(Flatten())"
      ],
      "metadata": {
        "id": "9r1uB6Q2gr0f"
      },
      "execution_count": null,
      "outputs": []
    },
    {
      "cell_type": "markdown",
      "source": [
        "#Dense Layer"
      ],
      "metadata": {
        "id": "W6AVK8kegzc8"
      }
    },
    {
      "cell_type": "code",
      "source": [
        "model.add(Dense(300,activation='relu')) #hiddenlayer 1\n",
        "model.add(Dense(150,activation='relu')) #hiddenlayer 2"
      ],
      "metadata": {
        "id": "4vPxyMvNgv9T"
      },
      "execution_count": null,
      "outputs": []
    },
    {
      "cell_type": "markdown",
      "source": [
        "#Output"
      ],
      "metadata": {
        "id": "NCv-3zOWhaEs"
      }
    },
    {
      "cell_type": "code",
      "source": [
        "model.add(Dense(5,activation='softmax')) "
      ],
      "metadata": {
        "id": "j-spSS-RhUzP"
      },
      "execution_count": null,
      "outputs": []
    },
    {
      "cell_type": "markdown",
      "source": [
        "#Compile the model"
      ],
      "metadata": {
        "id": "_VtpKIp1hjaf"
      }
    },
    {
      "cell_type": "code",
      "source": [
        "model.compile(optimizer='adam',loss='categorical_crossentropy',metrics=['accuracy'])"
      ],
      "metadata": {
        "id": "JVu-wFLKhecP"
      },
      "execution_count": null,
      "outputs": []
    },
    {
      "cell_type": "markdown",
      "source": [
        "#Train"
      ],
      "metadata": {
        "id": "kJWsvZ8-l5a2"
      }
    },
    {
      "cell_type": "code",
      "source": [
        "from keras.callbacks import EarlyStopping, ReduceLROnPlateau"
      ],
      "metadata": {
        "id": "eUQIN_KT2oHd"
      },
      "execution_count": null,
      "outputs": []
    },
    {
      "cell_type": "code",
      "source": [
        "early_stopping = EarlyStopping(monitor='val_accuracy',\n",
        "                        patience=5)\n",
        "reduce_lr = ReduceLROnPlateau(monitor='val_accuracy',\n",
        "                        patience=5,\n",
        "                        factor=0.5,min_lr=0.00001)\n",
        "\n",
        "callback = [reduce_lr,early_stopping]"
      ],
      "metadata": {
        "id": "WjfUddVB2nyz"
      },
      "execution_count": null,
      "outputs": []
    },
    {
      "cell_type": "code",
      "source": [
        "model.fit_generator(xtrain,\n",
        "                    steps_per_epoch=len(xtrain),\n",
        "                    epochs=100,\n",
        "                    callbacks=callback,\n",
        "                    validation_data=xtest,\n",
        "                    validation_steps=len(xtest))"
      ],
      "metadata": {
        "colab": {
          "base_uri": "https://localhost:8080/"
        },
        "id": "z-zcxRkKhrt6",
        "outputId": "a6d63c01-9a64-45d5-9ffe-dad787653dad"
      },
      "execution_count": null,
      "outputs": [
        {
          "metadata": {
            "tags": null
          },
          "name": "stderr",
          "output_type": "stream",
          "text": [
            "/usr/local/lib/python3.7/dist-packages/ipykernel_launcher.py:6: UserWarning: `Model.fit_generator` is deprecated and will be removed in a future version. Please use `Model.fit`, which supports generators.\n",
            "  \n"
          ]
        },
        {
          "output_type": "stream",
          "name": "stdout",
          "text": [
            "Epoch 1/100\n",
            "44/44 [==============================] - 44s 999ms/step - loss: 1.4457 - accuracy: 0.3966 - val_loss: 1.1630 - val_accuracy: 0.5184 - lr: 0.0010\n",
            "Epoch 2/100\n",
            "44/44 [==============================] - 43s 984ms/step - loss: 1.0895 - accuracy: 0.5622 - val_loss: 1.0866 - val_accuracy: 0.5671 - lr: 0.0010\n",
            "Epoch 3/100\n",
            "44/44 [==============================] - 43s 984ms/step - loss: 1.0103 - accuracy: 0.6115 - val_loss: 0.9593 - val_accuracy: 0.6352 - lr: 0.0010\n",
            "Epoch 4/100\n",
            "44/44 [==============================] - 45s 1s/step - loss: 0.9328 - accuracy: 0.6465 - val_loss: 1.0083 - val_accuracy: 0.6261 - lr: 0.0010\n",
            "Epoch 5/100\n",
            "44/44 [==============================] - 44s 1s/step - loss: 0.8719 - accuracy: 0.6720 - val_loss: 0.7892 - val_accuracy: 0.7042 - lr: 0.0010\n",
            "Epoch 6/100\n",
            "44/44 [==============================] - 47s 1s/step - loss: 0.8335 - accuracy: 0.6792 - val_loss: 0.8034 - val_accuracy: 0.6924 - lr: 0.0010\n",
            "Epoch 7/100\n",
            "44/44 [==============================] - 44s 1s/step - loss: 0.7931 - accuracy: 0.7007 - val_loss: 0.7847 - val_accuracy: 0.7033 - lr: 0.0010\n",
            "Epoch 8/100\n",
            "44/44 [==============================] - 44s 1s/step - loss: 0.7552 - accuracy: 0.7116 - val_loss: 0.7689 - val_accuracy: 0.7084 - lr: 0.0010\n",
            "Epoch 9/100\n",
            "44/44 [==============================] - 45s 1s/step - loss: 0.7196 - accuracy: 0.7290 - val_loss: 0.7223 - val_accuracy: 0.7371 - lr: 0.0010\n",
            "Epoch 10/100\n",
            "44/44 [==============================] - 45s 1s/step - loss: 0.7042 - accuracy: 0.7343 - val_loss: 0.6809 - val_accuracy: 0.7417 - lr: 0.0010\n",
            "Epoch 11/100\n",
            "44/44 [==============================] - 43s 989ms/step - loss: 0.6455 - accuracy: 0.7565 - val_loss: 0.6562 - val_accuracy: 0.7647 - lr: 0.0010\n",
            "Epoch 12/100\n",
            "44/44 [==============================] - 45s 1s/step - loss: 0.6269 - accuracy: 0.7656 - val_loss: 0.5082 - val_accuracy: 0.8126 - lr: 0.0010\n",
            "Epoch 13/100\n",
            "44/44 [==============================] - 44s 992ms/step - loss: 0.5771 - accuracy: 0.7908 - val_loss: 0.5780 - val_accuracy: 0.7920 - lr: 0.0010\n",
            "Epoch 14/100\n",
            "44/44 [==============================] - 44s 1s/step - loss: 0.5424 - accuracy: 0.8008 - val_loss: 0.4553 - val_accuracy: 0.8346 - lr: 0.0010\n",
            "Epoch 15/100\n",
            "44/44 [==============================] - 44s 997ms/step - loss: 0.5196 - accuracy: 0.8084 - val_loss: 0.4276 - val_accuracy: 0.8448 - lr: 0.0010\n",
            "Epoch 16/100\n",
            "44/44 [==============================] - 44s 997ms/step - loss: 0.4943 - accuracy: 0.8179 - val_loss: 0.4011 - val_accuracy: 0.8594 - lr: 0.0010\n",
            "Epoch 17/100\n",
            "44/44 [==============================] - 45s 1s/step - loss: 0.4684 - accuracy: 0.8274 - val_loss: 0.4814 - val_accuracy: 0.8202 - lr: 0.0010\n",
            "Epoch 18/100\n",
            "44/44 [==============================] - 44s 991ms/step - loss: 0.4656 - accuracy: 0.8286 - val_loss: 0.4276 - val_accuracy: 0.8406 - lr: 0.0010\n",
            "Epoch 19/100\n",
            "44/44 [==============================] - 44s 994ms/step - loss: 0.4369 - accuracy: 0.8376 - val_loss: 0.4102 - val_accuracy: 0.8476 - lr: 0.0010\n",
            "Epoch 20/100\n",
            "44/44 [==============================] - 45s 1s/step - loss: 0.4160 - accuracy: 0.8478 - val_loss: 0.2937 - val_accuracy: 0.8972 - lr: 0.0010\n",
            "Epoch 21/100\n",
            "44/44 [==============================] - 43s 986ms/step - loss: 0.3909 - accuracy: 0.8624 - val_loss: 0.2886 - val_accuracy: 0.8988 - lr: 0.0010\n",
            "Epoch 22/100\n",
            "44/44 [==============================] - 43s 990ms/step - loss: 0.3700 - accuracy: 0.8682 - val_loss: 0.3960 - val_accuracy: 0.8568 - lr: 0.0010\n",
            "Epoch 23/100\n",
            "44/44 [==============================] - 46s 1s/step - loss: 0.3523 - accuracy: 0.8786 - val_loss: 0.2501 - val_accuracy: 0.9115 - lr: 0.0010\n",
            "Epoch 24/100\n",
            "44/44 [==============================] - 44s 1s/step - loss: 0.3160 - accuracy: 0.8860 - val_loss: 0.2280 - val_accuracy: 0.9182 - lr: 0.0010\n",
            "Epoch 25/100\n",
            "44/44 [==============================] - 45s 1s/step - loss: 0.3201 - accuracy: 0.8853 - val_loss: 0.2216 - val_accuracy: 0.9236 - lr: 0.0010\n",
            "Epoch 26/100\n",
            "44/44 [==============================] - 44s 1s/step - loss: 0.2814 - accuracy: 0.9004 - val_loss: 0.2063 - val_accuracy: 0.9284 - lr: 0.0010\n",
            "Epoch 27/100\n",
            "44/44 [==============================] - 44s 1s/step - loss: 0.2622 - accuracy: 0.9062 - val_loss: 0.1504 - val_accuracy: 0.9525 - lr: 0.0010\n",
            "Epoch 28/100\n",
            "44/44 [==============================] - 45s 1s/step - loss: 0.2483 - accuracy: 0.9122 - val_loss: 0.2870 - val_accuracy: 0.8999 - lr: 0.0010\n",
            "Epoch 29/100\n",
            "44/44 [==============================] - 44s 995ms/step - loss: 0.2333 - accuracy: 0.9199 - val_loss: 0.1581 - val_accuracy: 0.9493 - lr: 0.0010\n",
            "Epoch 30/100\n",
            "44/44 [==============================] - 44s 1000ms/step - loss: 0.2465 - accuracy: 0.9124 - val_loss: 0.1880 - val_accuracy: 0.9340 - lr: 0.0010\n",
            "Epoch 31/100\n",
            "44/44 [==============================] - 45s 1s/step - loss: 0.1905 - accuracy: 0.9347 - val_loss: 0.1608 - val_accuracy: 0.9453 - lr: 0.0010\n",
            "Epoch 32/100\n",
            "44/44 [==============================] - 44s 993ms/step - loss: 0.2451 - accuracy: 0.9168 - val_loss: 0.1926 - val_accuracy: 0.9335 - lr: 0.0010\n"
          ]
        },
        {
          "output_type": "execute_result",
          "data": {
            "text/plain": [
              "<keras.callbacks.History at 0x7f9dc4ab6310>"
            ]
          },
          "metadata": {},
          "execution_count": 100
        }
      ]
    },
    {
      "cell_type": "markdown",
      "source": [
        "#Saving"
      ],
      "metadata": {
        "id": "enTRhmVfw_0z"
      }
    },
    {
      "cell_type": "code",
      "source": [
        "model.save('Flowers.h5')"
      ],
      "metadata": {
        "id": "qXgmiappxIvr"
      },
      "execution_count": null,
      "outputs": []
    },
    {
      "cell_type": "markdown",
      "source": [
        "#Testing the model"
      ],
      "metadata": {
        "id": "1yxP__0dxaHh"
      }
    },
    {
      "cell_type": "code",
      "source": [
        "import numpy as np\n",
        "from tensorflow.keras.preprocessing import image"
      ],
      "metadata": {
        "id": "zxJagwCtxbzf"
      },
      "execution_count": null,
      "outputs": []
    },
    {
      "cell_type": "code",
      "source": [
        "img = image.load_img('/content/flowers/sunflower/10386503264_e05387e1f7_m.jpg',target_size=(64,64))"
      ],
      "metadata": {
        "id": "WRUFyWSmxiBl"
      },
      "execution_count": null,
      "outputs": []
    },
    {
      "cell_type": "code",
      "source": [
        "img"
      ],
      "metadata": {
        "colab": {
          "base_uri": "https://localhost:8080/",
          "height": 81
        },
        "id": "Jj12c5nJyJji",
        "outputId": "d5700668-1ba7-4a0a-d026-1d10ecc8c17f"
      },
      "execution_count": null,
      "outputs": [
        {
          "output_type": "execute_result",
          "data": {
            "text/plain": [
              "<PIL.Image.Image image mode=RGB size=64x64 at 0x7F9DC480DCD0>"
            ],
            "image/png": "[encoded data removed]"
          },
          "metadata": {},
          "execution_count": 104
        }
      ]
    },
    {
      "cell_type": "markdown",
      "source": [
        "#Array Conversion"
      ],
      "metadata": {
        "id": "cVQ7VfQUycQV"
      }
    },
    {
      "cell_type": "code",
      "source": [
        "x = image.img_to_array(img)\n",
        "x"
      ],
      "metadata": {
        "colab": {
          "base_uri": "https://localhost:8080/"
        },
        "id": "mVENDoNxybdG",
        "outputId": "b2e783e4-ea52-4e3e-d328-cefc23145937"
      },
      "execution_count": null,
      "outputs": [
        {
          "output_type": "execute_result",
          "data": {
            "text/plain": [
              "array([[[ 37.,  93., 242.],\n",
              "        [ 45., 103., 210.],\n",
              "        [ 36., 104., 205.],\n",
              "        ...,\n",
              "        [ 51., 115., 223.],\n",
              "        [131.,  60.,  16.],\n",
              "        [ 68., 120., 242.]],\n",
              "\n",
              "       [[ 83., 137., 183.],\n",
              "        [110., 142., 131.],\n",
              "        [127., 151., 119.],\n",
              "        ...,\n",
              "        [ 68., 118., 191.],\n",
              "        [ 53.,  23.,  13.],\n",
              "        [ 54., 127., 221.]],\n",
              "\n",
              "       [[ 80., 114.,  77.],\n",
              "        [ 86., 110.,  58.],\n",
              "        [ 81., 122., 154.],\n",
              "        ...,\n",
              "        [ 67., 120., 188.],\n",
              "        [ 53.,  99., 149.],\n",
              "        [ 63., 129., 223.]],\n",
              "\n",
              "       ...,\n",
              "\n",
              "       [[120., 157., 116.],\n",
              "        [138., 164., 116.],\n",
              "        [125., 155., 103.],\n",
              "        ...,\n",
              "        [121., 153.,  86.],\n",
              "        [ 20.,  30.,   5.],\n",
              "        [124., 136.,  96.]],\n",
              "\n",
              "       [[132., 156., 120.],\n",
              "        [161., 190., 132.],\n",
              "        [115., 139.,  89.],\n",
              "        ...,\n",
              "        [113., 137.,  75.],\n",
              "        [108., 133.,  75.],\n",
              "        [112., 141.,  75.]],\n",
              "\n",
              "       [[  0.,  10.,   6.],\n",
              "        [ 58.,  72.,  47.],\n",
              "        [ 53.,  66.,  36.],\n",
              "        ...,\n",
              "        [129., 158.,  94.],\n",
              "        [121., 162.,  92.],\n",
              "        [138., 184., 119.]]], dtype=float32)"
            ]
          },
          "metadata": {},
          "execution_count": 105
        }
      ]
    },
    {
      "cell_type": "markdown",
      "source": [
        "Expanding dimensions"
      ],
      "metadata": {
        "id": "N1SJnruxyvKr"
      }
    },
    {
      "cell_type": "code",
      "source": [
        "x = np.expand_dims(x,axis=0)\n",
        "x"
      ],
      "metadata": {
        "colab": {
          "base_uri": "https://localhost:8080/"
        },
        "id": "XDjq3uW8yMdb",
        "outputId": "22e765eb-2984-4ad2-83c2-775a08db6ced"
      },
      "execution_count": null,
      "outputs": [
        {
          "output_type": "execute_result",
          "data": {
            "text/plain": [
              "array([[[[ 37.,  93., 242.],\n",
              "         [ 45., 103., 210.],\n",
              "         [ 36., 104., 205.],\n",
              "         ...,\n",
              "         [ 51., 115., 223.],\n",
              "         [131.,  60.,  16.],\n",
              "         [ 68., 120., 242.]],\n",
              "\n",
              "        [[ 83., 137., 183.],\n",
              "         [110., 142., 131.],\n",
              "         [127., 151., 119.],\n",
              "         ...,\n",
              "         [ 68., 118., 191.],\n",
              "         [ 53.,  23.,  13.],\n",
              "         [ 54., 127., 221.]],\n",
              "\n",
              "        [[ 80., 114.,  77.],\n",
              "         [ 86., 110.,  58.],\n",
              "         [ 81., 122., 154.],\n",
              "         ...,\n",
              "         [ 67., 120., 188.],\n",
              "         [ 53.,  99., 149.],\n",
              "         [ 63., 129., 223.]],\n",
              "\n",
              "        ...,\n",
              "\n",
              "        [[120., 157., 116.],\n",
              "         [138., 164., 116.],\n",
              "         [125., 155., 103.],\n",
              "         ...,\n",
              "         [121., 153.,  86.],\n",
              "         [ 20.,  30.,   5.],\n",
              "         [124., 136.,  96.]],\n",
              "\n",
              "        [[132., 156., 120.],\n",
              "         [161., 190., 132.],\n",
              "         [115., 139.,  89.],\n",
              "         ...,\n",
              "         [113., 137.,  75.],\n",
              "         [108., 133.,  75.],\n",
              "         [112., 141.,  75.]],\n",
              "\n",
              "        [[  0.,  10.,   6.],\n",
              "         [ 58.,  72.,  47.],\n",
              "         [ 53.,  66.,  36.],\n",
              "         ...,\n",
              "         [129., 158.,  94.],\n",
              "         [121., 162.,  92.],\n",
              "         [138., 184., 119.]]]], dtype=float32)"
            ]
          },
          "metadata": {},
          "execution_count": 106
        }
      ]
    },
    {
      "cell_type": "markdown",
      "source": [
        "#Prediction"
      ],
      "metadata": {
        "id": "7EqXPN_6zJ15"
      }
    },
    {
      "cell_type": "code",
      "source": [
        "model.predict(x)"
      ],
      "metadata": {
        "colab": {
          "base_uri": "https://localhost:8080/"
        },
        "id": "yyd3khslzOn4",
        "outputId": "d2a84ecf-b95e-40b4-ef2f-adcd701251ab"
      },
      "execution_count": null,
      "outputs": [
        {
          "output_type": "execute_result",
          "data": {
            "text/plain": [
              "array([[0., 0., 0., 1., 0.]], dtype=float32)"
            ]
          },
          "metadata": {},
          "execution_count": 107
        }
      ]
    },
    {
      "cell_type": "code",
      "source": [
        "xtrain.class_indices"
      ],
      "metadata": {
        "colab": {
          "base_uri": "https://localhost:8080/"
        },
        "id": "FujyAKZizPeV",
        "outputId": "83945e49-bb9e-4761-ee43-aeb68ba4b973"
      },
      "execution_count": null,
      "outputs": [
        {
          "output_type": "execute_result",
          "data": {
            "text/plain": [
              "{'daisy': 0, 'dandelion': 1, 'rose': 2, 'sunflower': 3, 'tulip': 4}"
            ]
          },
          "metadata": {},
          "execution_count": 82
        }
      ]
    },
    {
      "cell_type": "code",
      "source": [
        "op = ['daisy','dandelion','rose','sunflower','tulip']\n",
        "pred = np.argmax(model.predict(x))\n",
        "op[pred]"
      ],
      "metadata": {
        "colab": {
          "base_uri": "https://localhost:8080/",
          "height": 36
        },
        "id": "8_ttI-66zx_n",
        "outputId": "dd6a4b67-897c-4fba-972b-6e8a5001af3a"
      },
      "execution_count": null,
      "outputs": [
        {
          "output_type": "execute_result",
          "data": {
            "text/plain": [
              "'sunflower'"
            ],
            "application/vnd.google.colaboratory.intrinsic+json": {
              "type": "string"
            }
          },
          "metadata": {},
          "execution_count": 108
        }
      ]
    },
    {
      "cell_type": "code",
      "source": [
        "img = image.load_img('/content/flowers/daisy/10466558316_a7198b87e2.jpg',target_size=(64,64))\n",
        "x = image.img_to_array(img)\n",
        "x = np.expand_dims(x,axis=0)\n",
        "pred = np.argmax(model.predict(x))\n",
        "op[pred]"
      ],
      "metadata": {
        "colab": {
          "base_uri": "https://localhost:8080/",
          "height": 36
        },
        "id": "nNVICMJ-0lvh",
        "outputId": "c98de516-f6cb-400f-a0a4-b77c4e13528f"
      },
      "execution_count": null,
      "outputs": [
        {
          "output_type": "execute_result",
          "data": {
            "text/plain": [
              "'daisy'"
            ],
            "application/vnd.google.colaboratory.intrinsic+json": {
              "type": "string"
            }
          },
          "metadata": {},
          "execution_count": 110
        }
      ]
    }
  ]
}