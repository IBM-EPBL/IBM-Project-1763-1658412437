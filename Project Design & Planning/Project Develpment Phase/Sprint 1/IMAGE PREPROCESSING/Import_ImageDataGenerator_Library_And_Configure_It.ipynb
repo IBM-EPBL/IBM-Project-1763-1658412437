{
  "nbformat": 4,
  "nbformat_minor": 0,
  "metadata": {
    "colab": {
      "provenance": []
    },
    "kernelspec": {
      "name": "python3",
      "display_name": "Python 3"
    },
    "language_info": {
      "name": "python"
    }
  },
  "cells": [
    {
      "cell_type": "markdown",
      "source": [
        "# **IMAGE PREPROCESSING**"
      ],
      "metadata": {
        "id": "7ujATH8thxhA"
      }
    },
    {
      "cell_type": "markdown",
      "source": [
        "**Import ImageDataGenerator Library And Configure It**"
      ],
      "metadata": {
        "id": "HdVnfW-FiOM9"
      }
    },
    {
      "cell_type": "code",
      "execution_count": 1,
      "metadata": {
        "id": "fyfeNVJAhv2H"
      },
      "outputs": [],
      "source": [
        "from tensorflow.keras.preprocessing.image import ImageDataGenerator"
      ]
    },
    {
      "cell_type": "code",
      "source": [
        "# Training Datagen\n",
        "train_datagen = ImageDataGenerator(rescale=1/255,zoom_range=0.2,horizontal_flip=True,vertical_flip=False)\n",
        "# Testing Datagen\n",
        "test_datagen = ImageDataGenerator(rescale=1/255)"
      ],
      "metadata": {
        "id": "gCcTO3KXicav"
      },
      "execution_count": 2,
      "outputs": []
    },
    {
      "cell_type": "code",
      "source": [
        "import tensorflow as tf\n",
        "import os\n",
        "from tensorflow.keras.models import Sequential\n",
        "from tensorflow.keras.layers import Dense, Conv2D, Flatten, Dropout, MaxPooling2D\n",
        "from tensorflow.keras.preprocessing.image import ImageDataGenerator\n",
        "import numpy as np\n",
        "import matplotlib.pyplot as plt"
      ],
      "metadata": {
        "id": "QsnbDobvigDu"
      },
      "execution_count": 3,
      "outputs": []
    }
  ]
}