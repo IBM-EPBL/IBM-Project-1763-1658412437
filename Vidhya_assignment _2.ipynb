{
  "nbformat": 4,
  "nbformat_minor": 0,
  "metadata": {
    "colab": {
      "provenance": []
    },
    "kernelspec": {
      "name": "python3",
      "display_name": "Python 3"
    },
    "language_info": {
      "name": "python"
    }
  },
  "cells": [
    {
      "cell_type": "code",
      "execution_count": 5,
      "metadata": {
        "colab": {
          "base_uri": "https://localhost:8080/"
        },
        "id": "8ZQu65xdB6p3",
        "outputId": "bc8e4809-d020-4f13-bf61-b5b44fc13f8e"
      },
      "outputs": [
        {
          "output_type": "execute_result",
          "data": {
            "text/plain": [
              "({' nbformat': 4,\n",
              "  ' nbformat_minor': 0,\n",
              "  'metadata': {'id': 'Pi7vi4Bk9Yc9'},\n",
              "  'cell_type': 'code',\n",
              "  'outputs': [],\n",
              "  'source': ['import pandas as pd\\n', 'import numpy as np']},)"
            ]
          },
          "metadata": {},
          "execution_count": 5
        }
      ],
      "source": [
        "{\n",
        "    \" nbformat\": 4,\n",
        " \" nbformat_minor\":0,\n",
        " \"metadata\":{\n",
        "     \" colab\": {\n",
        "         \"provenance\":[],\n",
        "         \"collapsed_sections\":[]\n",
        "     },\n",
        "     \"kernelspec\": {\n",
        "         \"name\": \"python3\",\n",
        "         \"display_name\": \"Python 3\"\n",
        "     },\n",
        "     \"language_info\": {\n",
        "         \"name\": \" python\"\n",
        "     }\n",
        " },\n",
        " \"cell_type\": \"code\",\n",
        " \"metadata\": {\n",
        "     \"id\": \"Pi7vi4Bk9Yc9\"\n",
        " },\n",
        "\"outputs\":[],\n",
        " \"source\":[\n",
        "     \"import pandas as pd\\n\",\n",
        "     \"import numpy as np\"\n",
        " ]\n",
        "\n",
        "    \n",
        "      \n",
        "},"
      ]
    },
    {
      "cell_type": "code",
      "source": [
        "{\n",
        "    \"cell_type\": \"code\",\n",
        " \"source\": [\n",
        "     \"df = pd.read_csv('/content/Churn_Modelling(1).csv')\"\n",
        " ],\n",
        " \"metadata\":{\n",
        "     \"id\": \"vbwW9M2E-4Tf\"\n",
        " },\n",
        " \n",
        " \"outputs\" :[]\n",
        "},"
      ],
      "metadata": {
        "colab": {
          "base_uri": "https://localhost:8080/"
        },
        "id": "O_eEnQRuGln9",
        "outputId": "a677ba8b-ad87-4358-ffc6-e73de6243968"
      },
      "execution_count": 16,
      "outputs": [
        {
          "output_type": "execute_result",
          "data": {
            "text/plain": [
              "({'cell_type': 'code',\n",
              "  'source': [\"df = pd.read_csv('/content/Churn_Modelling(1).csv')\"],\n",
              "  'metadata': {'id': 'vbwW9M2E-4Tf'},\n",
              "  'outputs': []},)"
            ]
          },
          "metadata": {},
          "execution_count": 16
        }
      ]
    },
    {
      "cell_type": "code",
      "source": [
        "{\n",
        "    \"cell_type\": \"code\",\n",
        " \"source\":[\n",
        "     \"import matplotlib.pyplot as plt\\n\",\n",
        "     \"%matploylib inline\\n\",\n",
        "     \"import seaborn as sns\\n\",\n",
        "     \"import math\"\n",
        " ],\n",
        " \"metadata\":{\n",
        "     \"id\": \"i694M-spCZBc\"\n",
        " },\n",
        " \"outputs\":[]\n",
        "},"
      ],
      "metadata": {
        "colab": {
          "base_uri": "https://localhost:8080/"
        },
        "id": "VfHXENeKJefu",
        "outputId": "03daab84-21fb-4d37-9a3f-bfb285514159"
      },
      "execution_count": 26,
      "outputs": [
        {
          "output_type": "execute_result",
          "data": {
            "text/plain": [
              "({'cell_type': 'code',\n",
              "  'source': ['import matplotlib.pyplot as plt\\n',\n",
              "   '%matploylib inline\\n',\n",
              "   'import seaborn as sns\\n',\n",
              "   'import math'],\n",
              "  'metadata': {'id': 'i694M-spCZBc'},\n",
              "  'outputs': []},)"
            ]
          },
          "metadata": {},
          "execution_count": 26
        }
      ]
    },
    {
      "cell_type": "code",
      "source": [
        "{\n",
        "    \"cell_type\":\"code\",\n",
        " \"source\": [\n",
        "     \"sns.countplot(df['Gender'])\"\n",
        " ],\n",
        " \"metadata\": {\n",
        "     \"colab\":{\n",
        "         \"base_url\": \"https://localhost:8080/\",\n",
        "         \"height\": 351\n",
        "     },\n",
        "     \"id\": \"b_8CvFIOCpbs\",\n",
        "     \"outputId\": \"be1946eb-686f-439f-fcbf-790a0ac5883a\"\n",
        " },\n",
        " \"execution_count\":null,\n",
        " \"outputs\":\"stderr\"\n",
        "\"text\":\n",
        "     }\n",
        "}"
      ],
      "metadata": {
        "colab": {
          "base_uri": "https://localhost:8080/"
        },
        "id": "Q-egOj9WQs1E",
        "outputId": "9a973deb-5693-4268-fb7b-aa92ba4543c2"
      },
      "execution_count": 32,
      "outputs": [
        {
          "output_type": "execute_result",
          "data": {
            "text/plain": [
              "{'cell_type': 'code', 'source': [\"sns.countplot(df['Gender'])\"]}"
            ]
          },
          "metadata": {},
          "execution_count": 32
        }
      ]
    }
  ]
}